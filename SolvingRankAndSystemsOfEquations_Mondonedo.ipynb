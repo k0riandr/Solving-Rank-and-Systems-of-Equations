{
 "cells": [
  {
   "cell_type": "code",
   "execution_count": 2,
   "id": "a658c468-6d19-4cd3-a75a-df16af92d0fa",
   "metadata": {},
   "outputs": [],
   "source": [
    "import numpy as np"
   ]
  },
  {
   "cell_type": "markdown",
   "id": "88845cef-fe9e-426c-b82b-6d2a97aa3489",
   "metadata": {},
   "source": [
    "### Problem 1: Rank of a Matrix"
   ]
  },
  {
   "cell_type": "code",
   "execution_count": 6,
   "id": "3de518a3-f632-41d4-b884-c9fe3bf2fc9e",
   "metadata": {},
   "outputs": [
    {
     "name": "stdout",
     "output_type": "stream",
     "text": [
      "Rank of matrix A: 2\n"
     ]
    }
   ],
   "source": [
    "#Find the rank of the following matrix:\n",
    "A = np.array([[1,2,0,4],[3,6,0,8],[5,10,0,12],[7,14,0,16]])\n",
    "\n",
    "#Compute the rank\n",
    "rank = np.linalg.matrix_rank(A)\n",
    "print(\"Rank of matrix A:\",rank)"
   ]
  },
  {
   "cell_type": "markdown",
   "id": "aa5aa1d3-9615-499c-94bf-c84dea271b3b",
   "metadata": {},
   "source": [
    "### Problem 2: Solve a 3x3 Systems of Equations"
   ]
  },
  {
   "cell_type": "code",
   "execution_count": 13,
   "id": "51aca1f2-61b4-4617-8882-ea3a04f170e1",
   "metadata": {},
   "outputs": [
    {
     "name": "stdout",
     "output_type": "stream",
     "text": [
      "Solution vector x:\n",
      " [0.5 0.5 5. ]\n"
     ]
    }
   ],
   "source": [
    "#Solve the following system using matrix inverse:\n",
    "#Coefficient Matrix\n",
    "A = np.array([[1,1,1],[2,4,3],[0,0,1]])\n",
    "#Constant Vector\n",
    "b = np.array([6,18,5])\n",
    "\n",
    "# Solve for x using matrix inverse\n",
    "if np.linalg.det(A) != 0:\n",
    "    x = np.linalg.inv(A).dot(b)\n",
    "    print(\"Solution vector x:\\n\",x)\n",
    "else:\n",
    "    print(\"Matrix A is not invertible, no unique solution.\")"
   ]
  },
  {
   "cell_type": "markdown",
   "id": "a91b8297-e6f4-46b1-abd6-2246941c9438",
   "metadata": {},
   "source": [
    "### Problem 4: Solve a 4x4 System of Equations"
   ]
  },
  {
   "cell_type": "code",
   "execution_count": 28,
   "id": "245715da-9cd6-4505-9694-3a5b3519f47a",
   "metadata": {},
   "outputs": [
    {
     "name": "stdout",
     "output_type": "stream",
     "text": [
      "Solution vector x:\n",
      " [-1.28125  5.3125   3.21875  2.75   ]\n"
     ]
    }
   ],
   "source": [
    "#Solve the following system using matrix inverse:\n",
    "#Coefficient Matrix\n",
    "A = np.array([[1,1,1,1],[2,1,0,3],[4,3,2,1],[3,0,5,1]])\n",
    "#Constant Vector\n",
    "b = np.array([10,11,20,15])\n",
    "\n",
    "# Solve for x using matrix inverse\n",
    "if np.linalg.det(A) != 0:\n",
    "    x = np.linalg.inv(A).dot(b)\n",
    "    print(\"Solution vector x:\\n\",x)\n",
    "else:\n",
    "    print(\"Matrix A is not invertible, no unique solution.\")"
   ]
  }
 ],
 "metadata": {
  "kernelspec": {
   "display_name": "Python 3 (ipykernel)",
   "language": "python",
   "name": "python3"
  },
  "language_info": {
   "codemirror_mode": {
    "name": "ipython",
    "version": 3
   },
   "file_extension": ".py",
   "mimetype": "text/x-python",
   "name": "python",
   "nbconvert_exporter": "python",
   "pygments_lexer": "ipython3",
   "version": "3.12.7"
  }
 },
 "nbformat": 4,
 "nbformat_minor": 5
}
